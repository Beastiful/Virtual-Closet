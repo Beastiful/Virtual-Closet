{
 "cells": [
  {
   "cell_type": "code",
   "execution_count": null,
   "id": "7778a805",
   "metadata": {},
   "outputs": [],
   "source": [
    "#damn look at all this code\n",
    "\n",
    "#this is a test to show how to commit things onto github\n",
    "\n",
    "print(\"yo mama\")"
   ]
  }
 ],
 "metadata": {
  "language_info": {
   "name": "python"
  }
 },
 "nbformat": 4,
 "nbformat_minor": 5
}
